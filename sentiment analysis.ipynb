{
 "cells": [
  {
   "cell_type": "code",
   "execution_count": 1,
   "id": "72210e40",
   "metadata": {},
   "outputs": [],
   "source": [
    "from pyspark.sql import SparkSession\n",
    "from pyspark.sql.functions import regexp_replace\n",
    "from pyspark.ml.feature import RegexTokenizer, StopWordsRemover, CountVectorizer\n",
    "from pyspark.ml import Pipeline\n",
    "from pyspark.ml.feature import  StringIndexer, VectorAssembler\n",
    "from pyspark.ml.evaluation import MulticlassClassificationEvaluator\n",
    "from pyspark.sql.functions import size\n",
    "from pyspark_dist_explore import hist # install\n",
    "import numpy as np\n",
    "import matplotlib.pyplot as plt\n",
    "import plotly.express as px\n",
    "import pandas as pd \n",
    "import math\n",
    "\n",
    "%matplotlib inline"
   ]
  },
  {
   "cell_type": "code",
   "execution_count": 2,
   "id": "546d738d",
   "metadata": {},
   "outputs": [],
   "source": [
    "spark= SparkSession \\\n",
    "        .builder \\\n",
    "        .appName(\"Data Preparation1\")\\\n",
    "        .getOrCreate()\n"
   ]
  },
  {
   "cell_type": "code",
   "execution_count": 3,
   "id": "6eca400f",
   "metadata": {},
   "outputs": [
    {
     "data": {
      "text/plain": [
       "'3.3.2'"
      ]
     },
     "execution_count": 3,
     "metadata": {},
     "output_type": "execute_result"
    }
   ],
   "source": [
    "spark.version"
   ]
  },
  {
   "cell_type": "markdown",
   "id": "e5e85b29",
   "metadata": {},
   "source": [
    "## Data collecting "
   ]
  },
  {
   "cell_type": "code",
   "execution_count": 4,
   "id": "62ae7fc1",
   "metadata": {},
   "outputs": [
    {
     "name": "stdout",
     "output_type": "stream",
     "text": [
      "Please provide your Kaggle credentials to download this dataset. Learn more: http://bit.ly/kaggle-creds\n",
      "Your Kaggle username: mohamedabdelrazek9\n",
      "Your Kaggle Key: ········\n",
      "Downloading twitter-sentiment-dataset.zip to .\\twitter-sentiment-dataset\n"
     ]
    },
    {
     "name": "stderr",
     "output_type": "stream",
     "text": [
      "100%|██████████| 7.60M/7.60M [00:00<00:00, 12.4MB/s]\n"
     ]
    },
    {
     "name": "stdout",
     "output_type": "stream",
     "text": [
      "\n"
     ]
    }
   ],
   "source": [
    "# This cell runs once to download the data \n",
    "\n",
    "import opendatasets as od  # install\n",
    " \n",
    "od.download(\n",
    "    \"https://www.kaggle.com/datasets/saurabhshahane/twitter-sentiment-dataset\", force=True)"
   ]
  },
  {
   "cell_type": "code",
   "execution_count": 5,
   "id": "518d350f",
   "metadata": {},
   "outputs": [],
   "source": [
    "dataTrain=spark.read.csv(r'twitter-sentiment-dataset\\Twitter_Data.csv',header =True)\n"
   ]
  },
  {
   "cell_type": "code",
   "execution_count": 6,
   "id": "354e368c",
   "metadata": {},
   "outputs": [
    {
     "name": "stdout",
     "output_type": "stream",
     "text": [
      "+--------------------+--------+\n",
      "|          clean_text|category|\n",
      "+--------------------+--------+\n",
      "|when modi promise...|      -1|\n",
      "|talk all the nons...|       0|\n",
      "|what did just say...|       1|\n",
      "|asking his suppor...|       1|\n",
      "|answer who among ...|       1|\n",
      "|kiya tho refresh ...|       0|\n",
      "|surat women perfo...|    null|\n",
      "|                  ,0|    null|\n",
      "|this comes from c...|       0|\n",
      "|with upcoming ele...|       1|\n",
      "|gandhi was gay do...|       1|\n",
      "|things like demon...|       1|\n",
      "|hope tuthukudi pe...|       1|\n",
      "|calm waters where...|       1|\n",
      "|one vote can make...|       0|\n",
      "|one vote can make...|       0|\n",
      "|vote such party a...|      -1|\n",
      "|vote modi who has...|       0|\n",
      "|through our vote ...|       0|\n",
      "|dont play with th...|    null|\n",
      "+--------------------+--------+\n",
      "only showing top 20 rows\n",
      "\n"
     ]
    }
   ],
   "source": [
    "dataTrain.show()"
   ]
  },
  {
   "cell_type": "code",
   "execution_count": 7,
   "id": "77240a5d",
   "metadata": {},
   "outputs": [
    {
     "name": "stdout",
     "output_type": "stream",
     "text": [
      "+--------+-----+\n",
      "|Category|count|\n",
      "+--------+-----+\n",
      "|      -1|34665|\n",
      "|       0|53553|\n",
      "|    null|33437|\n",
      "|       1|70476|\n",
      "+--------+-----+\n",
      "\n"
     ]
    }
   ],
   "source": [
    "dataTrain.groupBy('Category').count().show()"
   ]
  },
  {
   "cell_type": "markdown",
   "id": "6c2f7e2c",
   "metadata": {},
   "source": [
    "* In this table we see that there are many nulls and our data composit from two columns target and tweets so we can drop them or dealing with them as test data"
   ]
  },
  {
   "cell_type": "code",
   "execution_count": 8,
   "id": "715413c4",
   "metadata": {},
   "outputs": [],
   "source": [
    "df=dataTrain.toPandas()\n",
    "# px.histogram( df,x= 'category',title='Data Distibution')\n"
   ]
  },
  {
   "cell_type": "code",
   "execution_count": 9,
   "id": "3821999e",
   "metadata": {},
   "outputs": [
    {
     "data": {
      "text/plain": [
       "1     70476\n",
       "0     53553\n",
       "-1    34665\n",
       "Name: category, dtype: int64"
      ]
     },
     "execution_count": 9,
     "metadata": {},
     "output_type": "execute_result"
    }
   ],
   "source": [
    "df[\"category\"].value_counts()"
   ]
  },
  {
   "cell_type": "code",
   "execution_count": 10,
   "id": "080cf5f7",
   "metadata": {},
   "outputs": [
    {
     "data": {
      "image/png": "[encoded data removed]",
      "text/plain": [
       "<Figure size 640x480 with 1 Axes>"
      ]
     },
     "metadata": {},
     "output_type": "display_data"
    }
   ],
   "source": [
    "plt.bar(['Positive', \"Natural\", \"Negative\"], df[\"category\"].value_counts())\n",
    "plt.title(\"Categories Samples\")\n",
    "plt.xlabel(\"Labels\")\n",
    "plt.ylabel(\"Counts\")\n",
    "plt.show()"
   ]
  },
  {
   "cell_type": "markdown",
   "id": "67f049d2",
   "metadata": {},
   "source": [
    "## Data cleaning"
   ]
  },
  {
   "cell_type": "code",
   "execution_count": 11,
   "id": "884a0842",
   "metadata": {},
   "outputs": [],
   "source": [
    "xData=dataTrain[dataTrain['Category']!='null']"
   ]
  },
  {
   "cell_type": "code",
   "execution_count": 12,
   "id": "b1f6ac9c",
   "metadata": {},
   "outputs": [
    {
     "name": "stdout",
     "output_type": "stream",
     "text": [
      "+--------+-----+\n",
      "|Category|count|\n",
      "+--------+-----+\n",
      "|      -1|34665|\n",
      "|       0|53553|\n",
      "|       1|70476|\n",
      "+--------+-----+\n",
      "\n"
     ]
    }
   ],
   "source": [
    "xData.groupBy('Category').count().show()"
   ]
  },
  {
   "cell_type": "code",
   "execution_count": 13,
   "id": "b5e8267b",
   "metadata": {},
   "outputs": [
    {
     "name": "stdout",
     "output_type": "stream",
     "text": [
      "+--------------------+--------+-----+\n",
      "|               Tweet|category|label|\n",
      "+--------------------+--------+-----+\n",
      "|when modi promise...|      -1|  2.0|\n",
      "|talk all the nons...|       0|  1.0|\n",
      "|what did just say...|       1|  0.0|\n",
      "|asking his suppor...|       1|  0.0|\n",
      "|answer who among ...|       1|  0.0|\n",
      "|kiya tho refresh ...|       0|  1.0|\n",
      "|this comes from c...|       0|  1.0|\n",
      "|with upcoming ele...|       1|  0.0|\n",
      "|gandhi was gay do...|       1|  0.0|\n",
      "|things like demon...|       1|  0.0|\n",
      "|hope tuthukudi pe...|       1|  0.0|\n",
      "|calm waters where...|       1|  0.0|\n",
      "|one vote can make...|       0|  1.0|\n",
      "|one vote can make...|       0|  1.0|\n",
      "|vote such party a...|      -1|  2.0|\n",
      "|vote modi who has...|       0|  1.0|\n",
      "|through our vote ...|       0|  1.0|\n",
      "|didn’ write chowk...|      -1|  2.0|\n",
      "|was the one who r...|       1|  0.0|\n",
      "|with firm belief ...|      -1|  2.0|\n",
      "+--------------------+--------+-----+\n",
      "only showing top 20 rows\n",
      "\n"
     ]
    }
   ],
   "source": [
    "xData = xData.withColumnRenamed(\"clean_text\",\"Tweet\")\n",
    "\n",
    "indexer = StringIndexer(inputCol='category', outputCol='label')\n",
    "indexd_data=indexer.fit(xData).transform(xData)\n",
    "indexd_data.show()"
   ]
  },
  {
   "cell_type": "markdown",
   "id": "dd9533f1",
   "metadata": {},
   "source": [
    "* After this step converted data are stored in string type so we should convert its type into integer"
   ]
  },
  {
   "cell_type": "code",
   "execution_count": 14,
   "id": "6b39521b",
   "metadata": {},
   "outputs": [
    {
     "data": {
      "text/plain": [
       "DataFrame[Tweet: string, category: string, label: int]"
      ]
     },
     "execution_count": 14,
     "metadata": {},
     "output_type": "execute_result"
    }
   ],
   "source": [
    "data_df = indexd_data.withColumn(\"label\", indexd_data[\"label\"].cast('int'))\n",
    "data_df\n"
   ]
  },
  {
   "cell_type": "code",
   "execution_count": 15,
   "id": "4e150f20",
   "metadata": {},
   "outputs": [],
   "source": [
    "data_df=data_df[data_df['Tweet']!='Not Available']"
   ]
  },
  {
   "cell_type": "code",
   "execution_count": 16,
   "id": "5eb68a28",
   "metadata": {},
   "outputs": [],
   "source": [
    "data_df=data_df.drop('category')\n"
   ]
  },
  {
   "cell_type": "code",
   "execution_count": 17,
   "id": "2cf232ad",
   "metadata": {},
   "outputs": [
    {
     "name": "stdout",
     "output_type": "stream",
     "text": [
      "+--------------------+-----+\n",
      "|               Tweet|label|\n",
      "+--------------------+-----+\n",
      "|when modi promise...|    2|\n",
      "|talk all the nons...|    1|\n",
      "|what did just say...|    0|\n",
      "|asking his suppor...|    0|\n",
      "|answer who among ...|    0|\n",
      "|kiya tho refresh ...|    1|\n",
      "|this comes from c...|    1|\n",
      "|with upcoming ele...|    0|\n",
      "|gandhi was gay do...|    0|\n",
      "|things like demon...|    0|\n",
      "|hope tuthukudi pe...|    0|\n",
      "|calm waters where...|    0|\n",
      "|one vote can make...|    1|\n",
      "|one vote can make...|    1|\n",
      "|vote such party a...|    2|\n",
      "|vote modi who has...|    1|\n",
      "|through our vote ...|    1|\n",
      "|didn’ write chowk...|    2|\n",
      "|was the one who r...|    0|\n",
      "|with firm belief ...|    2|\n",
      "+--------------------+-----+\n",
      "only showing top 20 rows\n",
      "\n"
     ]
    }
   ],
   "source": [
    "data_df.show()"
   ]
  },
  {
   "cell_type": "code",
   "execution_count": 18,
   "id": "f6cdb200",
   "metadata": {},
   "outputs": [
    {
     "name": "stdout",
     "output_type": "stream",
     "text": [
      "+-----+-----+\n",
      "|label|count|\n",
      "+-----+-----+\n",
      "|    1|53551|\n",
      "|    2|34664|\n",
      "|    0|70475|\n",
      "+-----+-----+\n",
      "\n"
     ]
    }
   ],
   "source": [
    "data_df.groupBy('label').count().show()"
   ]
  },
  {
   "cell_type": "markdown",
   "id": "feb5de40",
   "metadata": {},
   "source": [
    "#### We need to remove links , special caracters and degits from our data "
   ]
  },
  {
   "cell_type": "code",
   "execution_count": 19,
   "id": "81a0f6cb",
   "metadata": {},
   "outputs": [
    {
     "name": "stdout",
     "output_type": "stream",
     "text": [
      "+-----+--------------------+\n",
      "|label|               Tweet|\n",
      "+-----+--------------------+\n",
      "|    2|when modi promise...|\n",
      "|    1|talk all the nons...|\n",
      "|    0|what did just say...|\n",
      "|    0|asking his suppor...|\n",
      "|    0|answer who among ...|\n",
      "|    1|kiya tho refresh ...|\n",
      "|    1|this comes from c...|\n",
      "|    0|with upcoming ele...|\n",
      "|    0|gandhi was gay do...|\n",
      "|    0|things like demon...|\n",
      "|    0|hope tuthukudi pe...|\n",
      "|    0|calm waters where...|\n",
      "|    1|one vote can make...|\n",
      "|    1|one vote can make...|\n",
      "|    2|vote such party a...|\n",
      "|    1|vote modi who has...|\n",
      "|    1|through our vote ...|\n",
      "|    2|didn write chowki...|\n",
      "|    0|was the one who r...|\n",
      "|    2|with firm belief ...|\n",
      "+-----+--------------------+\n",
      "only showing top 20 rows\n",
      "\n"
     ]
    }
   ],
   "source": [
    "\n",
    "df = data_df.select(\"label\", regexp_replace(\"Tweet\", \"http\\S+\", \"\"\n",
    "                                    ).alias('Tweet1'))\n",
    "df1= df.select(\"label\", regexp_replace(\"Tweet1\", \"@[^\\s]+[\\s]?\", \"\"\n",
    "                                    ).alias('Tweet2'))\n",
    "df2= df1.select(\"label\", regexp_replace(\"Tweet2\", \"[^ a-zA-Z0-9]\", \"\"\n",
    "                                    ).alias('Tweet3'))\n",
    "df3= df2.select(\"label\", regexp_replace(\"Tweet3\", \"[0-9]\", \"\"\n",
    "                                    ).alias('Tweet'))\n",
    "df3.show()"
   ]
  },
  {
   "cell_type": "markdown",
   "id": "9203d6aa",
   "metadata": {},
   "source": [
    "## Data preprocessing "
   ]
  },
  {
   "cell_type": "markdown",
   "id": "d14d2f66",
   "metadata": {},
   "source": [
    "* We created a pipeline to tokenize words depend on spaces then remove stop words and Count the frequency of each word (i.e. count Vectorize)"
   ]
  },
  {
   "cell_type": "code",
   "execution_count": 20,
   "id": "a5acdc85",
   "metadata": {},
   "outputs": [],
   "source": [
    "sw = StopWordsRemover()\n",
    "\n",
    "\n",
    "add_stopwords = sw.getStopWords()  \n",
    "\n",
    "regexTokenizer = RegexTokenizer(inputCol=\"Tweet\", outputCol=\"Tweet1\", pattern=\"\\\\W\")\n",
    "stopwordsRemover = StopWordsRemover(inputCol=\"Tweet1\", outputCol=\"Tweet2\").setStopWords(add_stopwords)\n",
    "countVectors = CountVectorizer(inputCol=\"Tweet2\", outputCol=\"features\", vocabSize=6000, minDF=5)\n",
    "\n",
    "pipeline = Pipeline(stages=[regexTokenizer, stopwordsRemover, countVectors])\n",
    "\n",
    "pipelineFit = pipeline.fit(df3)\n",
    "dataset = pipelineFit.transform(df3)\n",
    "\n"
   ]
  },
  {
   "cell_type": "code",
   "execution_count": 21,
   "id": "2c17a3b3",
   "metadata": {
    "scrolled": true
   },
   "outputs": [
    {
     "name": "stdout",
     "output_type": "stream",
     "text": [
      "+-----+--------------------+--------------------+--------------------+--------------------+\n",
      "|label|               Tweet|              Tweet1|              Tweet2|            features|\n",
      "+-----+--------------------+--------------------+--------------------+--------------------+\n",
      "|    2|when modi promise...|[when, modi, prom...|[modi, promised, ...|(6000,[0,14,22,23...|\n",
      "|    1|talk all the nons...|[talk, all, the, ...|[talk, nonsense, ...|(6000,[0,8,199,59...|\n",
      "|    0|what did just say...|[what, did, just,...|[say, vote, modi,...|(6000,[0,2,8,16,4...|\n",
      "|    0|asking his suppor...|[asking, his, sup...|[asking, supporte...|(6000,[0,32,51,63...|\n",
      "|    0|answer who among ...|[answer, who, amo...|[answer, among, p...|(6000,[0,59,64,68...|\n",
      "+-----+--------------------+--------------------+--------------------+--------------------+\n",
      "only showing top 5 rows\n",
      "\n"
     ]
    }
   ],
   "source": [
    "dataset.show(5)"
   ]
  },
  {
   "cell_type": "code",
   "execution_count": 22,
   "id": "9b51a4e0",
   "metadata": {},
   "outputs": [
    {
     "name": "stdout",
     "output_type": "stream",
     "text": [
      "+-----+-----+\n",
      "|label|count|\n",
      "+-----+-----+\n",
      "|    1|53551|\n",
      "|    2|34664|\n",
      "|    0|70475|\n",
      "+-----+-----+\n",
      "\n"
     ]
    }
   ],
   "source": [
    "dataset.groupBy('label').count().show()"
   ]
  },
  {
   "cell_type": "code",
   "execution_count": 23,
   "id": "d9221949",
   "metadata": {},
   "outputs": [
    {
     "name": "stdout",
     "output_type": "stream",
     "text": [
      "Training Dataset Count: 126887\n",
      "Test Dataset Count: 31803\n"
     ]
    }
   ],
   "source": [
    "(trainingData, testData) = dataset.select(\"features\",\"label\").randomSplit([0.8, 0.2], seed = 20)\n",
    "print(\"Training Dataset Count: \" + str(trainingData.count()))\n",
    "print(\"Test Dataset Count: \" + str(testData.count()))\n"
   ]
  },
  {
   "cell_type": "code",
   "execution_count": 24,
   "id": "8850486d",
   "metadata": {},
   "outputs": [
    {
     "data": {
      "image/png": "[encoded data removed]",
      "text/plain": [
       "<Figure size 640x480 with 1 Axes>"
      ]
     },
     "metadata": {},
     "output_type": "display_data"
    }
   ],
   "source": [
    "fig = plt.figure()\n",
    "ax = fig.add_axes([0,0,1,1])\n",
    "data_type = ['Train','Test']\n",
    "counts = [trainingData.count(),testData.count()]\n",
    "ax.bar(data_type,counts)\n",
    "plt.title(\" Training and Data Testing \")\n",
    "plt.ylabel(\"Count\")\n",
    "plt.show()"
   ]
  },
  {
   "cell_type": "code",
   "execution_count": 25,
   "id": "6e8a2bc2",
   "metadata": {},
   "outputs": [
    {
     "data": {
      "text/plain": [
       "(13.127512760728465, 42, 0)"
      ]
     },
     "execution_count": 25,
     "metadata": {},
     "output_type": "execute_result"
    }
   ],
   "source": [
    "li = []\n",
    "for a in dataset.select(['Tweet2']).collect():\n",
    "    li.append(len(a.Tweet2))\n",
    "    \n",
    "np.mean(li), np.max(li), np.min(li)"
   ]
  },
  {
   "cell_type": "code",
   "execution_count": 26,
   "id": "defc6c51",
   "metadata": {},
   "outputs": [
    {
     "data": {
      "image/png": "[encoded data removed]",
      "text/plain": [
       "<Figure size 640x480 with 1 Axes>"
      ]
     },
     "metadata": {},
     "output_type": "display_data"
    }
   ],
   "source": [
    "fig = plt.figure()\n",
    "ax = fig.add_axes([0,0,1,1])\n",
    "data= ['Max','Min','Avg']\n",
    "values = [np.max(li),np.min(li),np.mean(li)]\n",
    "ax.bar(data,values)\n",
    "plt.title(\" Maximum , Minumum and Average No. Words Per Tweets \")\n",
    "plt.ylabel(\"values\")\n",
    "plt.show()"
   ]
  },
  {
   "cell_type": "code",
   "execution_count": 27,
   "id": "4877df51",
   "metadata": {},
   "outputs": [
    {
     "data": {
      "image/png": "[encoded data removed]",
      "text/plain": [
       "<Figure size 640x480 with 1 Axes>"
      ]
     },
     "metadata": {},
     "output_type": "display_data"
    }
   ],
   "source": [
    "plt.hist(li, bins=70)\n",
    "plt.xlabel('Words Count')\n",
    "plt.ylabel('Frequency')\n",
    "plt.title(\"Frequency of No. Words per Tweets\")\n",
    "plt.show()"
   ]
  },
  {
   "cell_type": "markdown",
   "id": "d3fc6adb",
   "metadata": {},
   "source": [
    "### Model Building\n",
    "\n",
    "##### We will try three models \n",
    "* Logestic Regression \n",
    "* Naiive Bayes\n",
    "* Random Forest"
   ]
  },
  {
   "cell_type": "code",
   "execution_count": 28,
   "id": "9a5c4f91",
   "metadata": {},
   "outputs": [],
   "source": [
    "from pyspark.ml.classification import LogisticRegression\n",
    "\n",
    "lr = LogisticRegression( regParam=.12)\n",
    "lrModel = lr.fit(trainingData)\n",
    "\n",
    "predictions_test_log = lrModel.transform(testData)\n",
    "predictions_train = lrModel.transform(trainingData)\n",
    "\n"
   ]
  },
  {
   "cell_type": "code",
   "execution_count": 29,
   "id": "cab1d4f2",
   "metadata": {},
   "outputs": [
    {
     "name": "stdout",
     "output_type": "stream",
     "text": [
      "Training Accuracy on LogisticRegression : 0.8688439320024904\n",
      "Testing Accuracy on LogisticRegression : 0.8443857497720341\n"
     ]
    }
   ],
   "source": [
    "evaluator = MulticlassClassificationEvaluator(labelCol=\"label\", predictionCol=\"prediction\", metricName=\"accuracy\")\n",
    "train_logr_acc = evaluator.evaluate(predictions_train)\n",
    "test_logr_acc = evaluator.evaluate(predictions_test_log)\n",
    "print('Training Accuracy on LogisticRegression : {0}'.format(train_logr_acc))\n",
    "print('Testing Accuracy on LogisticRegression : {0}'.format(test_logr_acc))\n"
   ]
  },
  {
   "cell_type": "markdown",
   "id": "53055168",
   "metadata": {},
   "source": [
    "##### Random Forest "
   ]
  },
  {
   "cell_type": "code",
   "execution_count": 30,
   "id": "1224e7ec",
   "metadata": {},
   "outputs": [],
   "source": [
    "from pyspark.ml.classification import RandomForestClassifier\n",
    "\n",
    "rf = RandomForestClassifier( labelCol=\"label\", seed=42,\n",
    "    leafCol=\"label1\")\n",
    "model = rf.fit(trainingData)"
   ]
  },
  {
   "cell_type": "code",
   "execution_count": 31,
   "id": "d51745eb",
   "metadata": {},
   "outputs": [
    {
     "name": "stdout",
     "output_type": "stream",
     "text": [
      "Training Accuracy on RandomForestClassifier : 0.44492343581296745\n",
      "Testing Accuracy on RandomForestClassifier : 0.44134201175989685\n"
     ]
    }
   ],
   "source": [
    "predictions_test = model.transform(testData)\n",
    "predictions_train = model.transform(trainingData)\n",
    "\n",
    "evaluator = MulticlassClassificationEvaluator(labelCol=\"label\", predictionCol=\"prediction\", metricName=\"accuracy\")\n",
    "train_ranf_acc = evaluator.evaluate(predictions_train)\n",
    "test_ranf_acc = evaluator.evaluate(predictions_test)\n",
    "print('Training Accuracy on RandomForestClassifier : {0}'.format(train_ranf_acc))\n",
    "print('Testing Accuracy on RandomForestClassifier : {0}'.format(test_ranf_acc))\n"
   ]
  },
  {
   "cell_type": "markdown",
   "id": "e48331b0",
   "metadata": {},
   "source": [
    "##### NaiveBayes "
   ]
  },
  {
   "cell_type": "code",
   "execution_count": 32,
   "id": "56d52845",
   "metadata": {},
   "outputs": [],
   "source": [
    "from pyspark.ml.classification import NaiveBayes\n",
    "\n",
    "nb = NaiveBayes(smoothing=2)\n",
    "model_nb = nb.fit(trainingData)\n",
    "predictions_test = model_nb.transform(testData)\n",
    "predictions_train = model_nb.transform(trainingData)\n"
   ]
  },
  {
   "cell_type": "code",
   "execution_count": 33,
   "id": "a689934b",
   "metadata": {},
   "outputs": [
    {
     "name": "stdout",
     "output_type": "stream",
     "text": [
      "Training Accuracy on NaiveBayes : 0.7872438008311623\n",
      "Testing Accuracy on NaiveBayes : 0.7619907513119497\n"
     ]
    }
   ],
   "source": [
    "evaluator = MulticlassClassificationEvaluator(predictionCol=\"prediction\")\n",
    "# evaluator_train = MulticlassClassificationEvaluator(predictionCol=\"prediction\")\n",
    "train_naiveb_acc = evaluator.evaluate(predictions_train)\n",
    "test_naiveb_acc = evaluator.evaluate(predictions_test)\n",
    "print('Training Accuracy on NaiveBayes : {0}'.format(train_naiveb_acc))\n",
    "print('Testing Accuracy on NaiveBayes : {0}'.format(test_naiveb_acc))\n"
   ]
  },
  {
   "cell_type": "markdown",
   "id": "791b6257",
   "metadata": {},
   "source": [
    "#### Comparison between Algorithms"
   ]
  },
  {
   "cell_type": "code",
   "execution_count": 34,
   "id": "26445ca8",
   "metadata": {
    "scrolled": false
   },
   "outputs": [
    {
     "data": {
      "image/png": "[encoded data removed]",
      "text/plain": [
       "<Figure size 640x480 with 1 Axes>"
      ]
     },
     "metadata": {},
     "output_type": "display_data"
    }
   ],
   "source": [
    "classifiers = (\"RandomForestClassifier\", \"NaiveBayes\", \"LogisticRegression\")\n",
    "data = {\n",
    "    'Training': (round(train_ranf_acc*100), round(train_naiveb_acc*100), round(train_logr_acc*100)),\n",
    "    'Testing': ( round(test_ranf_acc*100), round(test_naiveb_acc*100), round(test_logr_acc*100))\n",
    "}\n",
    "\n",
    "x = np.arange(len(classifiers))  # the label locations\n",
    "width = 0.25  # the width of the bars\n",
    "multiplier = 0\n",
    "\n",
    "fig, ax = plt.subplots(constrained_layout=True)\n",
    "\n",
    "for attribute, measurement in data.items():\n",
    "    offset = width * multiplier\n",
    "    rects = ax.bar(x + offset, measurement, width, label=attribute)\n",
    "    ax.bar_label(rects, padding=3)\n",
    "    multiplier += 1\n",
    "\n",
    "# Add some text for labels, title and custom x-axis tick labels, etc.\n",
    "ax.set_ylabel('Accuracy')\n",
    "ax.set_xlabel('Classifiers')\n",
    "ax.set_title('Comparison between Algorithms')\n",
    "ax.set_xticks(x + width, classifiers)\n",
    "ax.legend(loc='upper left', ncols=3)\n",
    "ax.set_ylim(0, 100)\n",
    "\n",
    "plt.show()"
   ]
  },
  {
   "cell_type": "markdown",
   "id": "06c00d75",
   "metadata": {},
   "source": [
    "#### Visualizing Evaluation Metrics for Logistic Regression"
   ]
  },
  {
   "cell_type": "code",
   "execution_count": 35,
   "id": "04c4cd20",
   "metadata": {},
   "outputs": [],
   "source": [
    "eval_accuracy = MulticlassClassificationEvaluator(labelCol=\"label\",\n",
    "                                                  predictionCol=\"prediction\",\n",
    "                                                  metricName=\"accuracy\")\n",
    "\n",
    "eval_precision = MulticlassClassificationEvaluator(labelCol=\"label\",\n",
    "                                                   predictionCol=\"prediction\",\n",
    "                                                   metricName=\"precisionByLabel\")\n",
    "\n",
    "eval_recall = MulticlassClassificationEvaluator(labelCol=\"label\", \n",
    "                                                predictionCol=\"prediction\", \n",
    "                                                metricName=\"recallByLabel\")\n",
    "\n",
    "eval_f1 = MulticlassClassificationEvaluator(labelCol=\"label\", \n",
    "                                            predictionCol=\"prediction\", \n",
    "                                            metricName=\"f1\")\n",
    "\n",
    "# get the evaluation metrics values\n",
    "accuracy = eval_accuracy.evaluate(predictions_test_log)\n",
    "precision = eval_precision.evaluate(predictions_test_log)\n",
    "recall = eval_recall.evaluate(predictions_test_log)\n",
    "f1score = eval_f1.evaluate(predictions_test_log)\n"
   ]
  },
  {
   "cell_type": "code",
   "execution_count": 36,
   "id": "c07c9786",
   "metadata": {},
   "outputs": [
    {
     "name": "stdout",
     "output_type": "stream",
     "text": [
      "the Accuracy of LogisticRegression: 84.44%\n",
      "the precision of LogisticRegression: 87.44%\n",
      "the recall of LogisticRegression: 85.57%\n",
      "the f1score of LogisticRegression: 84.2%\n"
     ]
    }
   ],
   "source": [
    "print(f\"the Accuracy of LogisticRegression: {round(accuracy * 100, 2)}%\")\n",
    "print(f\"the precision of LogisticRegression: {round(precision* 100, 2)}%\")\n",
    "print(f\"the recall of LogisticRegression: {round(recall* 100, 2)}%\")\n",
    "print(f\"the f1score of LogisticRegression: {round(f1score* 100, 2)}%\")"
   ]
  },
  {
   "cell_type": "code",
   "execution_count": 37,
   "id": "987b75f2",
   "metadata": {},
   "outputs": [
    {
     "data": {
      "image/png": "[encoded data removed]",
      "text/plain": [
       "<Figure size 640x480 with 1 Axes>"
      ]
     },
     "metadata": {},
     "output_type": "display_data"
    }
   ],
   "source": [
    "metric_name = ['Accuracy','Precision', 'Recall', 'F1score']\n",
    "values = [accuracy, precision, recall, f1score]\n",
    "plt.bar(metric_name,values)\n",
    "plt.title(\"Comparing different metrics\")\n",
    "plt.xlabel(\"Metric name\")\n",
    "plt.ylabel(\"Value\")\n",
    "plt.show()"
   ]
  }
 ],
 "metadata": {
  "kernelspec": {
   "display_name": "Python 3 (ipykernel)",
   "language": "python",
   "name": "python3"
  },
  "language_info": {
   "codemirror_mode": {
    "name": "ipython",
    "version": 3
   },
   "file_extension": ".py",
   "mimetype": "text/x-python",
   "name": "python",
   "nbconvert_exporter": "python",
   "pygments_lexer": "ipython3",
   "version": "3.10.9"
  }
 },
 "nbformat": 4,
 "nbformat_minor": 5
}
